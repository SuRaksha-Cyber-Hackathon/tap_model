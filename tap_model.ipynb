{
  "nbformat": 4,
  "nbformat_minor": 0,
  "metadata": {
    "colab": {
      "provenance": [],
      "gpuType": "T4"
    },
    "kernelspec": {
      "name": "python3",
      "display_name": "Python 3"
    },
    "language_info": {
      "name": "python"
    },
    "accelerator": "GPU"
  },
  "cells": [
    {
      "cell_type": "code",
      "source": [
        "!pip install tensorflow-cpu==2.12.0\n"
      ],
      "metadata": {
        "colab": {
          "base_uri": "https://localhost:8080/",
          "height": 1000
        },
        "id": "e4Nfmha5Sf1h",
        "outputId": "fef887d7-2168-409c-d1e3-ee79e539778d"
      },
      "execution_count": null,
      "outputs": [
        {
          "output_type": "stream",
          "name": "stdout",
          "text": [
            "Collecting tensorflow-cpu==2.12.0\n",
            "  Downloading tensorflow_cpu-2.12.0-cp311-cp311-manylinux_2_17_x86_64.manylinux2014_x86_64.whl.metadata (3.4 kB)\n",
            "Requirement already satisfied: absl-py>=1.0.0 in /usr/local/lib/python3.11/dist-packages (from tensorflow-cpu==2.12.0) (1.4.0)\n",
            "Requirement already satisfied: astunparse>=1.6.0 in /usr/local/lib/python3.11/dist-packages (from tensorflow-cpu==2.12.0) (1.6.3)\n",
            "Requirement already satisfied: flatbuffers>=2.0 in /usr/local/lib/python3.11/dist-packages (from tensorflow-cpu==2.12.0) (25.2.10)\n",
            "Collecting gast<=0.4.0,>=0.2.1 (from tensorflow-cpu==2.12.0)\n",
            "  Downloading gast-0.4.0-py3-none-any.whl.metadata (1.1 kB)\n",
            "Requirement already satisfied: google-pasta>=0.1.1 in /usr/local/lib/python3.11/dist-packages (from tensorflow-cpu==2.12.0) (0.2.0)\n",
            "Requirement already satisfied: grpcio<2.0,>=1.24.3 in /usr/local/lib/python3.11/dist-packages (from tensorflow-cpu==2.12.0) (1.73.1)\n",
            "Requirement already satisfied: h5py>=2.9.0 in /usr/local/lib/python3.11/dist-packages (from tensorflow-cpu==2.12.0) (3.14.0)\n",
            "Requirement already satisfied: jax>=0.3.15 in /usr/local/lib/python3.11/dist-packages (from tensorflow-cpu==2.12.0) (0.5.2)\n",
            "Collecting keras<2.13,>=2.12.0 (from tensorflow-cpu==2.12.0)\n",
            "  Downloading keras-2.12.0-py2.py3-none-any.whl.metadata (1.4 kB)\n",
            "Requirement already satisfied: libclang>=13.0.0 in /usr/local/lib/python3.11/dist-packages (from tensorflow-cpu==2.12.0) (18.1.1)\n",
            "Collecting numpy<1.24,>=1.22 (from tensorflow-cpu==2.12.0)\n",
            "  Downloading numpy-1.23.5-cp311-cp311-manylinux_2_17_x86_64.manylinux2014_x86_64.whl.metadata (2.3 kB)\n",
            "Requirement already satisfied: opt-einsum>=2.3.2 in /usr/local/lib/python3.11/dist-packages (from tensorflow-cpu==2.12.0) (3.4.0)\n",
            "Requirement already satisfied: packaging in /usr/local/lib/python3.11/dist-packages (from tensorflow-cpu==2.12.0) (24.2)\n",
            "Collecting protobuf!=4.21.0,!=4.21.1,!=4.21.2,!=4.21.3,!=4.21.4,!=4.21.5,<5.0.0dev,>=3.20.3 (from tensorflow-cpu==2.12.0)\n",
            "  Downloading protobuf-4.25.8-cp37-abi3-manylinux2014_x86_64.whl.metadata (541 bytes)\n",
            "Requirement already satisfied: setuptools in /usr/local/lib/python3.11/dist-packages (from tensorflow-cpu==2.12.0) (75.2.0)\n",
            "Requirement already satisfied: six>=1.12.0 in /usr/local/lib/python3.11/dist-packages (from tensorflow-cpu==2.12.0) (1.17.0)\n",
            "Collecting tensorboard<2.13,>=2.12 (from tensorflow-cpu==2.12.0)\n",
            "  Downloading tensorboard-2.12.3-py3-none-any.whl.metadata (1.8 kB)\n",
            "Collecting tensorflow-estimator<2.13,>=2.12.0 (from tensorflow-cpu==2.12.0)\n",
            "  Downloading tensorflow_estimator-2.12.0-py2.py3-none-any.whl.metadata (1.3 kB)\n",
            "Requirement already satisfied: termcolor>=1.1.0 in /usr/local/lib/python3.11/dist-packages (from tensorflow-cpu==2.12.0) (3.1.0)\n",
            "Requirement already satisfied: typing-extensions>=3.6.6 in /usr/local/lib/python3.11/dist-packages (from tensorflow-cpu==2.12.0) (4.14.1)\n",
            "Collecting wrapt<1.15,>=1.11.0 (from tensorflow-cpu==2.12.0)\n",
            "  Downloading wrapt-1.14.1-cp311-cp311-manylinux_2_5_x86_64.manylinux1_x86_64.manylinux_2_17_x86_64.manylinux2014_x86_64.whl.metadata (6.7 kB)\n",
            "Requirement already satisfied: tensorflow-io-gcs-filesystem>=0.23.1 in /usr/local/lib/python3.11/dist-packages (from tensorflow-cpu==2.12.0) (0.37.1)\n",
            "Requirement already satisfied: wheel<1.0,>=0.23.0 in /usr/local/lib/python3.11/dist-packages (from astunparse>=1.6.0->tensorflow-cpu==2.12.0) (0.45.1)\n",
            "Requirement already satisfied: jaxlib<=0.5.2,>=0.5.1 in /usr/local/lib/python3.11/dist-packages (from jax>=0.3.15->tensorflow-cpu==2.12.0) (0.5.1)\n",
            "Requirement already satisfied: ml_dtypes>=0.4.0 in /usr/local/lib/python3.11/dist-packages (from jax>=0.3.15->tensorflow-cpu==2.12.0) (0.4.1)\n",
            "INFO: pip is looking at multiple versions of jax to determine which version is compatible with other requirements. This could take a while.\n",
            "Collecting jax>=0.3.15 (from tensorflow-cpu==2.12.0)\n",
            "  Downloading jax-0.6.2-py3-none-any.whl.metadata (13 kB)\n",
            "Collecting jaxlib<=0.6.2,>=0.6.2 (from jax>=0.3.15->tensorflow-cpu==2.12.0)\n",
            "  Downloading jaxlib-0.6.2-cp311-cp311-manylinux2014_x86_64.whl.metadata (1.3 kB)\n",
            "Collecting ml_dtypes>=0.5.0 (from jax>=0.3.15->tensorflow-cpu==2.12.0)\n",
            "  Downloading ml_dtypes-0.5.1-cp311-cp311-manylinux_2_17_x86_64.manylinux2014_x86_64.whl.metadata (21 kB)\n",
            "Collecting jax>=0.3.15 (from tensorflow-cpu==2.12.0)\n",
            "  Downloading jax-0.6.1-py3-none-any.whl.metadata (13 kB)\n",
            "Collecting jaxlib<=0.6.1,>=0.6.1 (from jax>=0.3.15->tensorflow-cpu==2.12.0)\n",
            "  Downloading jaxlib-0.6.1-cp311-cp311-manylinux2014_x86_64.whl.metadata (1.2 kB)\n",
            "Collecting jax>=0.3.15 (from tensorflow-cpu==2.12.0)\n",
            "  Downloading jax-0.6.0-py3-none-any.whl.metadata (22 kB)\n",
            "Collecting jaxlib<=0.6.0,>=0.6.0 (from jax>=0.3.15->tensorflow-cpu==2.12.0)\n",
            "  Downloading jaxlib-0.6.0-cp311-cp311-manylinux2014_x86_64.whl.metadata (1.2 kB)\n",
            "Collecting jax>=0.3.15 (from tensorflow-cpu==2.12.0)\n",
            "  Downloading jax-0.5.3-py3-none-any.whl.metadata (22 kB)\n",
            "Collecting jaxlib<=0.5.3,>=0.5.3 (from jax>=0.3.15->tensorflow-cpu==2.12.0)\n",
            "  Downloading jaxlib-0.5.3-cp311-cp311-manylinux2014_x86_64.whl.metadata (1.2 kB)\n",
            "Collecting jax>=0.3.15 (from tensorflow-cpu==2.12.0)\n",
            "  Downloading jax-0.5.1-py3-none-any.whl.metadata (22 kB)\n",
            "  Downloading jax-0.5.0-py3-none-any.whl.metadata (22 kB)\n",
            "Collecting jaxlib<=0.5.0,>=0.5.0 (from jax>=0.3.15->tensorflow-cpu==2.12.0)\n",
            "  Downloading jaxlib-0.5.0-cp311-cp311-manylinux2014_x86_64.whl.metadata (978 bytes)\n",
            "Collecting jax>=0.3.15 (from tensorflow-cpu==2.12.0)\n",
            "  Downloading jax-0.4.38-py3-none-any.whl.metadata (22 kB)\n",
            "Collecting jaxlib<=0.4.38,>=0.4.38 (from jax>=0.3.15->tensorflow-cpu==2.12.0)\n",
            "  Downloading jaxlib-0.4.38-cp311-cp311-manylinux2014_x86_64.whl.metadata (1.0 kB)\n",
            "INFO: pip is still looking at multiple versions of jax to determine which version is compatible with other requirements. This could take a while.\n",
            "Collecting jax>=0.3.15 (from tensorflow-cpu==2.12.0)\n",
            "  Downloading jax-0.4.37-py3-none-any.whl.metadata (22 kB)\n",
            "Collecting jaxlib<=0.4.37,>=0.4.36 (from jax>=0.3.15->tensorflow-cpu==2.12.0)\n",
            "  Downloading jaxlib-0.4.36-cp311-cp311-manylinux2014_x86_64.whl.metadata (1.0 kB)\n",
            "Collecting jax>=0.3.15 (from tensorflow-cpu==2.12.0)\n",
            "  Downloading jax-0.4.36-py3-none-any.whl.metadata (22 kB)\n",
            "  Downloading jax-0.4.35-py3-none-any.whl.metadata (22 kB)\n",
            "Collecting jaxlib<=0.4.35,>=0.4.34 (from jax>=0.3.15->tensorflow-cpu==2.12.0)\n",
            "  Downloading jaxlib-0.4.35-cp311-cp311-manylinux2014_x86_64.whl.metadata (983 bytes)\n",
            "Collecting jax>=0.3.15 (from tensorflow-cpu==2.12.0)\n",
            "  Downloading jax-0.4.34-py3-none-any.whl.metadata (22 kB)\n",
            "Collecting jaxlib<=0.4.34,>=0.4.34 (from jax>=0.3.15->tensorflow-cpu==2.12.0)\n",
            "  Downloading jaxlib-0.4.34-cp311-cp311-manylinux2014_x86_64.whl.metadata (983 bytes)\n",
            "Collecting jax>=0.3.15 (from tensorflow-cpu==2.12.0)\n",
            "  Downloading jax-0.4.33-py3-none-any.whl.metadata (22 kB)\n",
            "Collecting jaxlib<=0.4.33,>=0.4.33 (from jax>=0.3.15->tensorflow-cpu==2.12.0)\n",
            "  Downloading jaxlib-0.4.33-cp311-cp311-manylinux2014_x86_64.whl.metadata (983 bytes)\n",
            "INFO: This is taking longer than usual. You might need to provide the dependency resolver with stricter constraints to reduce runtime. See https://pip.pypa.io/warnings/backtracking for guidance. If you want to abort this run, press Ctrl + C.\n",
            "Collecting jax>=0.3.15 (from tensorflow-cpu==2.12.0)\n",
            "  Downloading jax-0.4.31-py3-none-any.whl.metadata (22 kB)\n",
            "Collecting jaxlib<=0.4.31,>=0.4.30 (from jax>=0.3.15->tensorflow-cpu==2.12.0)\n",
            "  Downloading jaxlib-0.4.31-cp311-cp311-manylinux2014_x86_64.whl.metadata (983 bytes)\n",
            "Collecting jax>=0.3.15 (from tensorflow-cpu==2.12.0)\n",
            "  Downloading jax-0.4.30-py3-none-any.whl.metadata (22 kB)\n",
            "Collecting jaxlib<=0.4.30,>=0.4.27 (from jax>=0.3.15->tensorflow-cpu==2.12.0)\n",
            "  Downloading jaxlib-0.4.30-cp311-cp311-manylinux2014_x86_64.whl.metadata (1.0 kB)\n",
            "Requirement already satisfied: scipy>=1.9 in /usr/local/lib/python3.11/dist-packages (from jax>=0.3.15->tensorflow-cpu==2.12.0) (1.15.3)\n",
            "Requirement already satisfied: google-auth<3,>=1.6.3 in /usr/local/lib/python3.11/dist-packages (from tensorboard<2.13,>=2.12->tensorflow-cpu==2.12.0) (2.38.0)\n",
            "Collecting google-auth-oauthlib<1.1,>=0.5 (from tensorboard<2.13,>=2.12->tensorflow-cpu==2.12.0)\n",
            "  Downloading google_auth_oauthlib-1.0.0-py2.py3-none-any.whl.metadata (2.7 kB)\n",
            "Requirement already satisfied: markdown>=2.6.8 in /usr/local/lib/python3.11/dist-packages (from tensorboard<2.13,>=2.12->tensorflow-cpu==2.12.0) (3.8.2)\n",
            "Requirement already satisfied: requests<3,>=2.21.0 in /usr/local/lib/python3.11/dist-packages (from tensorboard<2.13,>=2.12->tensorflow-cpu==2.12.0) (2.32.3)\n",
            "Requirement already satisfied: tensorboard-data-server<0.8.0,>=0.7.0 in /usr/local/lib/python3.11/dist-packages (from tensorboard<2.13,>=2.12->tensorflow-cpu==2.12.0) (0.7.2)\n",
            "Requirement already satisfied: werkzeug>=1.0.1 in /usr/local/lib/python3.11/dist-packages (from tensorboard<2.13,>=2.12->tensorflow-cpu==2.12.0) (3.1.3)\n",
            "Requirement already satisfied: cachetools<6.0,>=2.0.0 in /usr/local/lib/python3.11/dist-packages (from google-auth<3,>=1.6.3->tensorboard<2.13,>=2.12->tensorflow-cpu==2.12.0) (5.5.2)\n",
            "Requirement already satisfied: pyasn1-modules>=0.2.1 in /usr/local/lib/python3.11/dist-packages (from google-auth<3,>=1.6.3->tensorboard<2.13,>=2.12->tensorflow-cpu==2.12.0) (0.4.2)\n",
            "Requirement already satisfied: rsa<5,>=3.1.4 in /usr/local/lib/python3.11/dist-packages (from google-auth<3,>=1.6.3->tensorboard<2.13,>=2.12->tensorflow-cpu==2.12.0) (4.9.1)\n",
            "Requirement already satisfied: requests-oauthlib>=0.7.0 in /usr/local/lib/python3.11/dist-packages (from google-auth-oauthlib<1.1,>=0.5->tensorboard<2.13,>=2.12->tensorflow-cpu==2.12.0) (2.0.0)\n",
            "Requirement already satisfied: charset-normalizer<4,>=2 in /usr/local/lib/python3.11/dist-packages (from requests<3,>=2.21.0->tensorboard<2.13,>=2.12->tensorflow-cpu==2.12.0) (3.4.2)\n",
            "Requirement already satisfied: idna<4,>=2.5 in /usr/local/lib/python3.11/dist-packages (from requests<3,>=2.21.0->tensorboard<2.13,>=2.12->tensorflow-cpu==2.12.0) (3.10)\n",
            "Requirement already satisfied: urllib3<3,>=1.21.1 in /usr/local/lib/python3.11/dist-packages (from requests<3,>=2.21.0->tensorboard<2.13,>=2.12->tensorflow-cpu==2.12.0) (2.4.0)\n",
            "Requirement already satisfied: certifi>=2017.4.17 in /usr/local/lib/python3.11/dist-packages (from requests<3,>=2.21.0->tensorboard<2.13,>=2.12->tensorflow-cpu==2.12.0) (2025.7.9)\n",
            "Requirement already satisfied: MarkupSafe>=2.1.1 in /usr/local/lib/python3.11/dist-packages (from werkzeug>=1.0.1->tensorboard<2.13,>=2.12->tensorflow-cpu==2.12.0) (3.0.2)\n",
            "Requirement already satisfied: pyasn1<0.7.0,>=0.6.1 in /usr/local/lib/python3.11/dist-packages (from pyasn1-modules>=0.2.1->google-auth<3,>=1.6.3->tensorboard<2.13,>=2.12->tensorflow-cpu==2.12.0) (0.6.1)\n",
            "Requirement already satisfied: oauthlib>=3.0.0 in /usr/local/lib/python3.11/dist-packages (from requests-oauthlib>=0.7.0->google-auth-oauthlib<1.1,>=0.5->tensorboard<2.13,>=2.12->tensorflow-cpu==2.12.0) (3.3.1)\n",
            "Downloading tensorflow_cpu-2.12.0-cp311-cp311-manylinux_2_17_x86_64.manylinux2014_x86_64.whl (231.8 MB)\n",
            "\u001b[2K   \u001b[90m━━━━━━━━━━━━━━━━━━━━━━━━━━━━━━━━━━━━━━━━\u001b[0m \u001b[32m231.8/231.8 MB\u001b[0m \u001b[31m5.9 MB/s\u001b[0m eta \u001b[36m0:00:00\u001b[0m\n",
            "\u001b[?25hDownloading gast-0.4.0-py3-none-any.whl (9.8 kB)\n",
            "Downloading jax-0.4.30-py3-none-any.whl (2.0 MB)\n",
            "\u001b[2K   \u001b[90m━━━━━━━━━━━━━━━━━━━━━━━━━━━━━━━━━━━━━━━━\u001b[0m \u001b[32m2.0/2.0 MB\u001b[0m \u001b[31m72.2 MB/s\u001b[0m eta \u001b[36m0:00:00\u001b[0m\n",
            "\u001b[?25hDownloading keras-2.12.0-py2.py3-none-any.whl (1.7 MB)\n",
            "\u001b[2K   \u001b[90m━━━━━━━━━━━━━━━━━━━━━━━━━━━━━━━━━━━━━━━━\u001b[0m \u001b[32m1.7/1.7 MB\u001b[0m \u001b[31m72.4 MB/s\u001b[0m eta \u001b[36m0:00:00\u001b[0m\n",
            "\u001b[?25hDownloading numpy-1.23.5-cp311-cp311-manylinux_2_17_x86_64.manylinux2014_x86_64.whl (17.1 MB)\n",
            "\u001b[2K   \u001b[90m━━━━━━━━━━━━━━━━━━━━━━━━━━━━━━━━━━━━━━━━\u001b[0m \u001b[32m17.1/17.1 MB\u001b[0m \u001b[31m90.7 MB/s\u001b[0m eta \u001b[36m0:00:00\u001b[0m\n",
            "\u001b[?25hDownloading protobuf-4.25.8-cp37-abi3-manylinux2014_x86_64.whl (294 kB)\n",
            "\u001b[2K   \u001b[90m━━━━━━━━━━━━━━━━━━━━━━━━━━━━━━━━━━━━━━━━\u001b[0m \u001b[32m294.9/294.9 kB\u001b[0m \u001b[31m24.6 MB/s\u001b[0m eta \u001b[36m0:00:00\u001b[0m\n",
            "\u001b[?25hDownloading tensorboard-2.12.3-py3-none-any.whl (5.6 MB)\n",
            "\u001b[2K   \u001b[90m━━━━━━━━━━━━━━━━━━━━━━━━━━━━━━━━━━━━━━━━\u001b[0m \u001b[32m5.6/5.6 MB\u001b[0m \u001b[31m93.1 MB/s\u001b[0m eta \u001b[36m0:00:00\u001b[0m\n",
            "\u001b[?25hDownloading tensorflow_estimator-2.12.0-py2.py3-none-any.whl (440 kB)\n",
            "\u001b[2K   \u001b[90m━━━━━━━━━━━━━━━━━━━━━━━━━━━━━━━━━━━━━━━━\u001b[0m \u001b[32m440.7/440.7 kB\u001b[0m \u001b[31m37.6 MB/s\u001b[0m eta \u001b[36m0:00:00\u001b[0m\n",
            "\u001b[?25hDownloading wrapt-1.14.1-cp311-cp311-manylinux_2_5_x86_64.manylinux1_x86_64.manylinux_2_17_x86_64.manylinux2014_x86_64.whl (78 kB)\n",
            "\u001b[2K   \u001b[90m━━━━━━━━━━━━━━━━━━━━━━━━━━━━━━━━━━━━━━━━\u001b[0m \u001b[32m78.4/78.4 kB\u001b[0m \u001b[31m7.2 MB/s\u001b[0m eta \u001b[36m0:00:00\u001b[0m\n",
            "\u001b[?25hDownloading google_auth_oauthlib-1.0.0-py2.py3-none-any.whl (18 kB)\n",
            "Downloading jaxlib-0.4.30-cp311-cp311-manylinux2014_x86_64.whl (79.6 MB)\n",
            "\u001b[2K   \u001b[90m━━━━━━━━━━━━━━━━━━━━━━━━━━━━━━━━━━━━━━━━\u001b[0m \u001b[32m79.6/79.6 MB\u001b[0m \u001b[31m9.8 MB/s\u001b[0m eta \u001b[36m0:00:00\u001b[0m\n",
            "\u001b[?25hInstalling collected packages: wrapt, tensorflow-estimator, protobuf, numpy, keras, gast, jaxlib, google-auth-oauthlib, tensorboard, jax, tensorflow-cpu\n",
            "  Attempting uninstall: wrapt\n",
            "    Found existing installation: wrapt 1.17.2\n",
            "    Uninstalling wrapt-1.17.2:\n",
            "      Successfully uninstalled wrapt-1.17.2\n",
            "  Attempting uninstall: protobuf\n",
            "    Found existing installation: protobuf 5.29.5\n",
            "    Uninstalling protobuf-5.29.5:\n",
            "      Successfully uninstalled protobuf-5.29.5\n",
            "  Attempting uninstall: numpy\n",
            "    Found existing installation: numpy 2.0.2\n",
            "    Uninstalling numpy-2.0.2:\n",
            "      Successfully uninstalled numpy-2.0.2\n",
            "  Attempting uninstall: keras\n",
            "    Found existing installation: keras 3.8.0\n",
            "    Uninstalling keras-3.8.0:\n",
            "      Successfully uninstalled keras-3.8.0\n",
            "  Attempting uninstall: gast\n",
            "    Found existing installation: gast 0.6.0\n",
            "    Uninstalling gast-0.6.0:\n",
            "      Successfully uninstalled gast-0.6.0\n",
            "  Attempting uninstall: jaxlib\n",
            "    Found existing installation: jaxlib 0.5.1\n",
            "    Uninstalling jaxlib-0.5.1:\n",
            "      Successfully uninstalled jaxlib-0.5.1\n",
            "  Attempting uninstall: google-auth-oauthlib\n",
            "    Found existing installation: google-auth-oauthlib 1.2.2\n",
            "    Uninstalling google-auth-oauthlib-1.2.2:\n",
            "      Successfully uninstalled google-auth-oauthlib-1.2.2\n",
            "  Attempting uninstall: tensorboard\n",
            "    Found existing installation: tensorboard 2.18.0\n",
            "    Uninstalling tensorboard-2.18.0:\n",
            "      Successfully uninstalled tensorboard-2.18.0\n",
            "  Attempting uninstall: jax\n",
            "    Found existing installation: jax 0.5.2\n",
            "    Uninstalling jax-0.5.2:\n",
            "      Successfully uninstalled jax-0.5.2\n",
            "\u001b[31mERROR: pip's dependency resolver does not currently take into account all the packages that are installed. This behaviour is the source of the following dependency conflicts.\n",
            "dopamine-rl 4.1.2 requires tensorflow>=2.2.0, which is not installed.\n",
            "tensorflow-decision-forests 1.11.0 requires tensorflow==2.18.0, which is not installed.\n",
            "opencv-python-headless 4.12.0.88 requires numpy<2.3.0,>=2; python_version >= \"3.9\", but you have numpy 1.23.5 which is incompatible.\n",
            "orbax-checkpoint 0.11.16 requires jax>=0.5.0, but you have jax 0.4.30 which is incompatible.\n",
            "chex 0.1.89 requires numpy>=1.24.1, but you have numpy 1.23.5 which is incompatible.\n",
            "scikit-image 0.25.2 requires numpy>=1.24, but you have numpy 1.23.5 which is incompatible.\n",
            "thinc 8.3.6 requires numpy<3.0.0,>=2.0.0, but you have numpy 1.23.5 which is incompatible.\n",
            "blosc2 3.5.1 requires numpy>=1.26, but you have numpy 1.23.5 which is incompatible.\n",
            "imbalanced-learn 0.13.0 requires numpy<3,>=1.24.3, but you have numpy 1.23.5 which is incompatible.\n",
            "flax 0.10.6 requires jax>=0.5.1, but you have jax 0.4.30 which is incompatible.\n",
            "xarray-einstats 0.9.1 requires numpy>=1.25, but you have numpy 1.23.5 which is incompatible.\n",
            "treescope 0.1.9 requires numpy>=1.25.2, but you have numpy 1.23.5 which is incompatible.\n",
            "grpcio-status 1.71.2 requires protobuf<6.0dev,>=5.26.1, but you have protobuf 4.25.8 which is incompatible.\n",
            "bigframes 2.8.0 requires numpy>=1.24.0, but you have numpy 1.23.5 which is incompatible.\n",
            "xarray 2025.3.1 requires numpy>=1.24, but you have numpy 1.23.5 which is incompatible.\n",
            "db-dtypes 1.4.3 requires numpy>=1.24.0, but you have numpy 1.23.5 which is incompatible.\n",
            "albumentations 2.0.8 requires numpy>=1.24.4, but you have numpy 1.23.5 which is incompatible.\n",
            "pymc 5.23.0 requires numpy>=1.25.0, but you have numpy 1.23.5 which is incompatible.\n",
            "ydf 0.12.0 requires protobuf<6.0.0,>=5.29.1, but you have protobuf 4.25.8 which is incompatible.\n",
            "albucore 0.0.24 requires numpy>=1.24.4, but you have numpy 1.23.5 which is incompatible.\u001b[0m\u001b[31m\n",
            "\u001b[0mSuccessfully installed gast-0.4.0 google-auth-oauthlib-1.0.0 jax-0.4.30 jaxlib-0.4.30 keras-2.12.0 numpy-1.23.5 protobuf-4.25.8 tensorboard-2.12.3 tensorflow-cpu-2.12.0 tensorflow-estimator-2.12.0 wrapt-1.14.1\n"
          ]
        },
        {
          "output_type": "display_data",
          "data": {
            "application/vnd.colab-display-data+json": {
              "pip_warning": {
                "packages": [
                  "gast",
                  "google",
                  "google_auth_oauthlib",
                  "jax",
                  "jaxlib",
                  "keras",
                  "numpy",
                  "tensorflow",
                  "wrapt"
                ]
              },
              "id": "8395d8acac364f3aaccd3528addf2ccb"
            }
          },
          "metadata": {}
        }
      ]
    },
    {
      "cell_type": "code",
      "source": [
        "import pandas as pd\n",
        "import numpy as np\n",
        "import seaborn as sns\n",
        "import matplotlib.pyplot as plt\n",
        "from sklearn.preprocessing import LabelEncoder\n",
        "from sklearn.model_selection import train_test_split\n",
        "from sklearn.manifold import TSNE\n",
        "import tensorflow as tf\n",
        "from tensorflow.keras import layers, models\n",
        "import os"
      ],
      "metadata": {
        "id": "GlEZBBOuqkFW"
      },
      "execution_count": null,
      "outputs": []
    },
    {
      "cell_type": "code",
      "source": [
        "!pip show tensorflow"
      ],
      "metadata": {
        "colab": {
          "base_uri": "https://localhost:8080/"
        },
        "id": "_lV8psA6SR9L",
        "outputId": "e09b0210-c5f7-43b2-e956-a728701d8270"
      },
      "execution_count": null,
      "outputs": [
        {
          "output_type": "stream",
          "name": "stdout",
          "text": [
            "\u001b[33mWARNING: Package(s) not found: tensorflow\u001b[0m\u001b[33m\n",
            "\u001b[0m"
          ]
        }
      ]
    },
    {
      "cell_type": "markdown",
      "source": [
        "# Synthetic Data Generation"
      ],
      "metadata": {
        "id": "4KaUWG5fm0_c"
      }
    },
    {
      "cell_type": "code",
      "source": [
        "import pandas as pd\n",
        "import numpy as np\n",
        "from datetime import datetime, timedelta\n",
        "import io\n",
        "\n",
        "# Set the target dataset size\n",
        "TARGET_SIZE = 5000\n",
        "\n",
        "try:\n",
        "    # --- Load the original CSV file ---\n",
        "    df_original = pd.read_csv(\"tap_events.csv\")\n",
        "\n",
        "    print(\"✅ Original dataset loaded successfully.\")\n",
        "    print(f\"Original dataset shape: {df_original.shape}\")\n",
        "    print(df_original.head())\n",
        "    df_original.info()\n",
        "\n",
        "    # --- Validate required columns (keep names as-is) ---\n",
        "    required_cols = ['user_id', 'timestamp', 'x', 'y', 'context_screen', 'duration_ms']\n",
        "    if not all(col in df_original.columns for col in required_cols):\n",
        "        missing = [col for col in required_cols if col not in df_original.columns]\n",
        "        raise ValueError(f\"Missing required columns: {missing}\")\n",
        "\n",
        "    # Convert timestamp to datetime\n",
        "    df_original['timestamp'] = pd.to_datetime(df_original['timestamp'], errors='coerce')\n",
        "    df_original.dropna(subset=['timestamp'], inplace=True)\n",
        "\n",
        "    # Get unique users\n",
        "    unique_users = df_original['user_id'].unique()\n",
        "    print(f\"\\n👤 Unique users found: {len(unique_users)} — {unique_users.tolist()}\")\n",
        "\n",
        "    # --- Check how much synthetic data is needed ---\n",
        "    current_size = len(df_original)\n",
        "    num_needed = TARGET_SIZE - current_size\n",
        "    print(f\"\\n📏 Current size: {current_size}, Synthetic needed: {num_needed}\")\n",
        "\n",
        "    if num_needed <= 0:\n",
        "        print(\"✅ Dataset already meets/exceeds target size. No synthetic data generated.\")\n",
        "        df_synthetic = pd.DataFrame(columns=df_original.columns)\n",
        "    else:\n",
        "        user_stats = {}\n",
        "        for user in unique_users:\n",
        "            u_df = df_original[df_original['user_id'] == user].copy()\n",
        "            x_std = u_df['x'].std()\n",
        "            y_std = u_df['y'].std()\n",
        "            d_std = u_df['duration_ms'].std()\n",
        "\n",
        "            user_stats[user] = {\n",
        "                'x_mean': u_df['x'].mean(),\n",
        "                'x_std': x_std if pd.notna(x_std) and x_std > 0 else 5,\n",
        "                'y_mean': u_df['y'].mean(),\n",
        "                'y_std': y_std if pd.notna(y_std) and y_std > 0 else 5,\n",
        "                'context_screen_dist': u_df['context_screen'].value_counts(normalize=True).to_dict(),\n",
        "                'duration_ms_values': u_df['duration_ms'].dropna().tolist(),\n",
        "                'duration_ms_mean': u_df['duration_ms'].mean(),\n",
        "                'duration_ms_std': d_std if pd.notna(d_std) and d_std > 0 else 10,\n",
        "                'min_timestamp': u_df['timestamp'].min(),\n",
        "                'max_timestamp': u_df['timestamp'].max()\n",
        "            }\n",
        "\n",
        "            if not user_stats[user]['context_screen_dist']:\n",
        "                user_stats[user]['context_screen_dist'] = {'default': 1.0}\n",
        "\n",
        "        # --- Distribute synthetic points among users ---\n",
        "        base_count = num_needed // len(unique_users)\n",
        "        extra = num_needed % len(unique_users)\n",
        "\n",
        "        gen_counts = {u: base_count for u in unique_users}\n",
        "        for i in range(extra):\n",
        "            gen_counts[unique_users[i]] += 1\n",
        "\n",
        "        # --- Generate synthetic data ---\n",
        "        synthetic_data = []\n",
        "        for user in unique_users:\n",
        "            stats = user_stats[user]\n",
        "            for _ in range(gen_counts[user]):\n",
        "                x = np.clip(np.random.normal(stats['x_mean'], stats['x_std']), 0, 1920)\n",
        "                y = np.clip(np.random.normal(stats['y_mean'], stats['y_std']), 0, 1080)\n",
        "\n",
        "                context_screen = np.random.choice(\n",
        "                    list(stats['context_screen_dist'].keys()),\n",
        "                    p=list(stats['context_screen_dist'].values())\n",
        "                )\n",
        "\n",
        "                if stats['duration_ms_values']:\n",
        "                    duration = np.random.choice(stats['duration_ms_values'])\n",
        "                else:\n",
        "                    duration = max(0, int(np.random.normal(stats['duration_ms_mean'], stats['duration_ms_std'])))\n",
        "\n",
        "                range_sec = (stats['max_timestamp'] - stats['min_timestamp']).total_seconds()\n",
        "                offset_sec = np.random.uniform(0, range_sec * 1.2 if range_sec > 0 else 86400)\n",
        "                ts = stats['min_timestamp'] + timedelta(seconds=offset_sec)\n",
        "\n",
        "                synthetic_data.append({\n",
        "                    'user_id': user,\n",
        "                    'timestamp': ts,\n",
        "                    'x': x,\n",
        "                    'y': y,\n",
        "                    'duration_ms': duration,\n",
        "                    'context_screen': context_screen,\n",
        "                    'id': np.nan\n",
        "                })\n",
        "\n",
        "        df_synthetic = pd.DataFrame(synthetic_data)\n",
        "        print(f\"\\n✅ Synthetic records generated: {len(df_synthetic)}\")\n",
        "        print(df_synthetic.head())\n",
        "\n",
        "    # --- Combine original and synthetic datasets ---\n",
        "    final_df = pd.concat([df_original, df_synthetic], ignore_index=True)\n",
        "    final_df.sort_values(by=['user_id', 'timestamp'], inplace=True)\n",
        "    final_df.reset_index(drop=True, inplace=True)\n",
        "\n",
        "    print(f\"\\n📊 Final combined shape: {final_df.shape}\")\n",
        "    print(final_df.head())\n",
        "\n",
        "    # --- Save the final dataset to CSV ---\n",
        "    final_df.to_csv(\"synthetic_tap_events.csv\", index=False)\n",
        "    print(\"✅ File saved as 'synthetic_tap_events.csv' with original column names.\")\n",
        "\n",
        "except ValueError as ve:\n",
        "    print(f\"❌ Data error: {ve}\")\n",
        "except Exception as e:\n",
        "    print(f\"❌ Unexpected error: {e}\")\n"
      ],
      "metadata": {
        "colab": {
          "base_uri": "https://localhost:8080/"
        },
        "id": "-pfESG1Jm3VR",
        "outputId": "aa2bb946-7f75-4976-cd05-a0df374dc62d"
      },
      "execution_count": null,
      "outputs": [
        {
          "output_type": "stream",
          "name": "stdout",
          "text": [
            "✅ Original dataset loaded successfully.\n",
            "Original dataset shape: (314, 7)\n",
            "                                user_id  id           x           y  \\\n",
            "0  f8e0e899-10aa-41dd-8be4-367bf324bfeb NaN  264.888889  460.444444   \n",
            "1  f8e0e899-10aa-41dd-8be4-367bf324bfeb NaN  264.888889  460.444444   \n",
            "2  bbc7f6a4-53e3-439f-8b99-1ca88483e321 NaN  257.000000  503.000000   \n",
            "3  bbc7f6a4-53e3-439f-8b99-1ca88483e321 NaN  257.000000  503.000000   \n",
            "4  f8e0e899-10aa-41dd-8be4-367bf324bfeb NaN  283.022222  433.777778   \n",
            "\n",
            "   duration_ms                   timestamp context_screen  \n",
            "0            0  2025-07-02T15:59:05.371275      dashboard  \n",
            "1            0  2025-07-02T15:59:05.371275      dashboard  \n",
            "2           35  2025-07-02T17:48:53.808869      pay_bills  \n",
            "3           35  2025-07-02T17:48:53.808869      pay_bills  \n",
            "4            0  2025-07-03T10:29:55.730579      add_funds  \n",
            "<class 'pandas.core.frame.DataFrame'>\n",
            "RangeIndex: 314 entries, 0 to 313\n",
            "Data columns (total 7 columns):\n",
            " #   Column          Non-Null Count  Dtype  \n",
            "---  ------          --------------  -----  \n",
            " 0   user_id         314 non-null    object \n",
            " 1   id              0 non-null      float64\n",
            " 2   x               314 non-null    float64\n",
            " 3   y               314 non-null    float64\n",
            " 4   duration_ms     314 non-null    int64  \n",
            " 5   timestamp       314 non-null    object \n",
            " 6   context_screen  314 non-null    object \n",
            "dtypes: float64(3), int64(1), object(3)\n",
            "memory usage: 17.3+ KB\n",
            "\n",
            "👤 Unique users found: 5 — ['f8e0e899-10aa-41dd-8be4-367bf324bfeb', 'bbc7f6a4-53e3-439f-8b99-1ca88483e321', 'c9f16bb0-fcb8-43c9-a2fd-c502ce6e5429', '235fc56c-8c60-43a1-a552-a2d95b3e5743', 'f52887f1-a2f1-4b54-83b1-269bcb0dc6da']\n",
            "\n",
            "📏 Current size: 314, Synthetic needed: 4686\n",
            "\n",
            "✅ Synthetic records generated: 4686\n",
            "                                user_id                  timestamp  \\\n",
            "0  f8e0e899-10aa-41dd-8be4-367bf324bfeb 2025-07-04 08:38:44.572751   \n",
            "1  f8e0e899-10aa-41dd-8be4-367bf324bfeb 2025-07-03 02:03:55.625537   \n",
            "2  f8e0e899-10aa-41dd-8be4-367bf324bfeb 2025-07-04 08:30:18.017738   \n",
            "3  f8e0e899-10aa-41dd-8be4-367bf324bfeb 2025-07-03 05:05:17.275142   \n",
            "4  f8e0e899-10aa-41dd-8be4-367bf324bfeb 2025-07-04 08:18:41.727735   \n",
            "\n",
            "            x           y  duration_ms context_screen  id  \n",
            "0  183.185114  703.721722           32      dashboard NaN  \n",
            "1  235.721220  620.290899           30      add_funds NaN  \n",
            "2  256.001550  303.425386            0      dashboard NaN  \n",
            "3  209.736535  382.863683           30      dashboard NaN  \n",
            "4  342.523427  599.212921            0      dashboard NaN  \n",
            "\n",
            "📊 Final combined shape: (5000, 7)\n",
            "                                user_id  id      x      y  duration_ms  \\\n",
            "0  235fc56c-8c60-43a1-a552-a2d95b3e5743 NaN  145.5  624.0            0   \n",
            "1  235fc56c-8c60-43a1-a552-a2d95b3e5743 NaN  145.5  624.0            0   \n",
            "2  235fc56c-8c60-43a1-a552-a2d95b3e5743 NaN  103.0  581.0            0   \n",
            "3  235fc56c-8c60-43a1-a552-a2d95b3e5743 NaN  103.0  581.0            0   \n",
            "4  235fc56c-8c60-43a1-a552-a2d95b3e5743 NaN   70.0  641.0            0   \n",
            "\n",
            "                   timestamp context_screen  \n",
            "0 2025-07-03 22:27:51.721277     statements  \n",
            "1 2025-07-03 22:27:51.721277     statements  \n",
            "2 2025-07-03 22:27:52.053206     statements  \n",
            "3 2025-07-03 22:27:52.053206     statements  \n",
            "4 2025-07-03 22:27:52.318569     statements  \n",
            "✅ File saved as 'synthetic_tap_events.csv' with original column names.\n"
          ]
        }
      ]
    },
    {
      "cell_type": "markdown",
      "source": [
        "\n",
        "\n",
        "# LOAD DATA"
      ],
      "metadata": {
        "id": "AdE3dXEctLE-"
      }
    },
    {
      "cell_type": "code",
      "source": [
        "df = pd.read_csv('synthetic_tap_events.csv')\n",
        "\n",
        "# Handle missing values: Drop rows with missing values in essential columns, excluding 'id'\n",
        "df.dropna(subset=['x', 'y', 'duration_ms', 'context_screen', 'user_id'], inplace=True)\n",
        "\n",
        "print(f\"Shape of DataFrame after dropping rows: {df.shape}\")\n",
        "print(f\"Number of unique users after dropping rows: {df['user_id'].nunique()}\")\n",
        "print(f\"Number of unique screens after dropping rows: {df['context_screen'].nunique()}\")"
      ],
      "metadata": {
        "colab": {
          "base_uri": "https://localhost:8080/"
        },
        "id": "0V_KdG2tqtC8",
        "outputId": "2966e692-d63d-447f-f2d8-8019efe42cc3"
      },
      "execution_count": null,
      "outputs": [
        {
          "output_type": "stream",
          "name": "stdout",
          "text": [
            "Shape of DataFrame after dropping rows: (5000, 7)\n",
            "Number of unique users after dropping rows: 5\n",
            "Number of unique screens after dropping rows: 7\n"
          ]
        }
      ]
    },
    {
      "cell_type": "code",
      "source": [
        "df.columns"
      ],
      "metadata": {
        "colab": {
          "base_uri": "https://localhost:8080/"
        },
        "id": "_ILoN1-1bdJU",
        "outputId": "716739eb-8ba2-41fd-f3fd-08470ed20096"
      },
      "execution_count": null,
      "outputs": [
        {
          "output_type": "execute_result",
          "data": {
            "text/plain": [
              "Index(['user_id', 'id', 'x', 'y', 'duration_ms', 'timestamp',\n",
              "       'context_screen'],\n",
              "      dtype='object')"
            ]
          },
          "metadata": {},
          "execution_count": 5
        }
      ]
    },
    {
      "cell_type": "markdown",
      "source": [
        "\n",
        "# ENCODING + NORMALIZATION"
      ],
      "metadata": {
        "id": "drPXyJZDtFu5"
      }
    },
    {
      "cell_type": "code",
      "source": [
        "user_encoder = LabelEncoder()\n",
        "screen_encoder = LabelEncoder()\n",
        "df['user_id_enc'] = user_encoder.fit_transform(df['user_id'])\n",
        "df['screen_enc'] = screen_encoder.fit_transform(df['context_screen'])\n",
        "\n",
        "# Check if max values are not zero before dividing\n",
        "if df['x'].max() > 0:\n",
        "    df['x'] = df['x'] / df['x'].max()\n",
        "if df['y'].max() > 0:\n",
        "    df['y'] = df['y'] / df['y'].max()\n",
        "if df['duration_ms'].max() > 0:\n",
        "    df['duration_ms'] = df['duration_ms'] / df['duration_ms'].max()\n",
        "\n",
        "\n",
        "\n",
        "# DUPLICATE IF TOO SMALL (TESTING PURPOSE)\n",
        "if len(df) < 20 and len(df) > 0: # Only duplicate if df is not empty and small\n",
        "    print(f\"Duplicating data from {len(df)} rows for testing purposes.\")\n",
        "    df = pd.concat([df] * 5, ignore_index=True)\n",
        "    print(f\"Shape of DataFrame after duplication: {df.shape}\")"
      ],
      "metadata": {
        "id": "M6MwiaNcqwwg"
      },
      "execution_count": null,
      "outputs": []
    },
    {
      "cell_type": "code",
      "source": [
        "screen_encoding_map = {screen: idx for idx, screen in enumerate(screen_encoder.classes_)}\n",
        "print(\"📋 Screen Encoding Map:\")\n",
        "for screen, code in screen_encoding_map.items():\n",
        "    print(f\"'{screen}' → {code}\")\n"
      ],
      "metadata": {
        "colab": {
          "base_uri": "https://localhost:8080/"
        },
        "id": "8SQgVfXAoZwx",
        "outputId": "e1ef3dc0-700a-433f-c735-487e5ff6f674"
      },
      "execution_count": null,
      "outputs": [
        {
          "output_type": "stream",
          "name": "stdout",
          "text": [
            "📋 Screen Encoding Map:\n",
            "'RegisterPage' → 0\n",
            "'add_funds' → 1\n",
            "'dashboard' → 2\n",
            "'pay_bills' → 3\n",
            "'profile' → 4\n",
            "'statements' → 5\n",
            "'transfer_page' → 6\n"
          ]
        }
      ]
    },
    {
      "cell_type": "markdown",
      "source": [
        "\n",
        "\n",
        "# FINAL FEATURES & LABELS"
      ],
      "metadata": {
        "id": "H5bYCHfvs80Z"
      }
    },
    {
      "cell_type": "code",
      "source": [
        "# Group by sessions (simplified: group by user & screen)\n",
        "sessions = df.groupby(['user_id_enc', 'context_screen']).agg({\n",
        "    'x': 'mean',\n",
        "    'y': 'mean',\n",
        "    'duration_ms': 'mean',\n",
        "    'screen_enc': 'first'\n",
        "}).reset_index()\n",
        "\n",
        "# Print the shape of the sessions DataFrame after grouping\n",
        "print(f\"Shape of sessions DataFrame after grouping: {sessions.shape}\")\n",
        "\n",
        "\n",
        "features = sessions[['x', 'y', 'duration_ms', 'screen_enc']].values\n",
        "labels = sessions['user_id_enc'].values\n",
        "\n",
        "# Print the shapes of features and labels\n",
        "print(f\"Shape of features array: {features.shape}\")\n",
        "print(f\"Shape of labels array: {labels.shape}\")"
      ],
      "metadata": {
        "colab": {
          "base_uri": "https://localhost:8080/"
        },
        "id": "S7xJHyN0q4NA",
        "outputId": "3896df15-71ce-4824-fa22-a64dd322742c"
      },
      "execution_count": null,
      "outputs": [
        {
          "output_type": "stream",
          "name": "stdout",
          "text": [
            "Shape of sessions DataFrame after grouping: (17, 6)\n",
            "Shape of features array: (17, 4)\n",
            "Shape of labels array: (17,)\n"
          ]
        }
      ]
    },
    {
      "cell_type": "markdown",
      "source": [
        "\n",
        "\n",
        "\n",
        "# HEATMAP"
      ],
      "metadata": {
        "id": "47bdisNRs3Uc"
      }
    },
    {
      "cell_type": "code",
      "source": [
        "screen_to_plot = 'dashboard'\n",
        "# Check if the screen exists in the data before plotting\n",
        "if screen_to_plot in df['context_screen'].unique():\n",
        "    df_screen = df[df['context_screen'] == screen_to_plot]\n",
        "    plt.figure(figsize=(6, 4))\n",
        "    sns.kdeplot(x=df_screen['x'], y=df_screen['y'], fill=True, cmap=\"Reds\", bw_adjust=0.3) # Use fill instead of shade\n",
        "    plt.title(f'Heatmap of taps on: {screen_to_plot}')\n",
        "    plt.gca().invert_yaxis()\n",
        "    plt.show()\n",
        "else:\n",
        "    print(f\"Screen '{screen_to_plot}' not found in the data.\")"
      ],
      "metadata": {
        "colab": {
          "base_uri": "https://localhost:8080/",
          "height": 410
        },
        "id": "N3qKmXKvq8gH",
        "outputId": "ba3c73d9-3402-4be9-ebbe-9d543b9e02b3"
      },
      "execution_count": null,
      "outputs": [
        {
          "output_type": "display_data",
          "data": {
            "text/plain": [
              "<Figure size 600x400 with 1 Axes>"
            ],
            "image/png": "[encoded data removed]"
          },
          "metadata": {}
        }
      ]
    },
    {
      "cell_type": "markdown",
      "source": [
        "# PAIR CREATION"
      ],
      "metadata": {
        "id": "J7bJpq_9sx9f"
      }
    },
    {
      "cell_type": "code",
      "source": [
        "def create_pairs(features, labels):\n",
        "    pair_features, pair_labels = [], []\n",
        "    n = len(features)\n",
        "    if n < 2:\n",
        "        print(\"Not enough features to create pairs.\")\n",
        "        return np.array(pair_features), np.array(pair_labels)\n",
        "\n",
        "    for i in range(n):\n",
        "        for j in range(i + 1, n):\n",
        "            pair_features.append([features[i], features[j]])\n",
        "            pair_labels.append(1 if labels[i] == labels[j] else 0)\n",
        "\n",
        "    return np.array(pair_features), np.array(pair_labels)\n",
        "\n",
        "\n",
        "X_pairs, y_pairs = create_pairs(features, labels)\n",
        "\n",
        "# Check if there are enough pairs to split and train\n",
        "if len(X_pairs) < 10:\n",
        "    raise ValueError(\"Not enough data for training. Please ensure your CSV has enough valid tap events to create at least 10 pairs.\")"
      ],
      "metadata": {
        "id": "9fPSNNe4q_Ol"
      },
      "execution_count": null,
      "outputs": []
    },
    {
      "cell_type": "markdown",
      "source": [
        "\n",
        "\n",
        "# TRAIN/TEST SPLIT"
      ],
      "metadata": {
        "id": "fhT3VnwtspkR"
      }
    },
    {
      "cell_type": "code",
      "source": [
        "X1 = np.array([x[0] for x in X_pairs])\n",
        "X2 = np.array([x[1] for x in X_pairs])\n",
        "X1_train, X1_test, X2_train, X2_test, y_train, y_test = train_test_split(X1, X2, y_pairs, test_size=0.2, random_state=42, stratify=y_pairs if len(np.unique(y_pairs)) > 1 else None)\n",
        "\n",
        "\n",
        "# BUILD BASE MODEL\n",
        "def build_base_network(input_shape):\n",
        "    input = layers.Input(shape=input_shape)\n",
        "    x = layers.Dense(128, activation='relu')(input)\n",
        "    x = layers.Dense(64, activation='relu')(x)\n",
        "    x = layers.Dense(32, activation='relu')(x)\n",
        "    return models.Model(input, x)\n",
        "\n",
        "input_shape = X1_train.shape[1:]\n",
        "base_network = build_base_network(input_shape)\n",
        "\n",
        "input_a = layers.Input(shape=input_shape)\n",
        "input_b = layers.Input(shape=input_shape)\n",
        "processed_a = base_network(input_a)\n",
        "processed_b = base_network(input_b)\n",
        "distance = layers.Lambda(lambda tensors: tf.math.abs(tensors[0] - tensors[1]))([processed_a, processed_b])\n",
        "output = layers.Dense(1, activation='sigmoid')(distance)\n",
        "siamese_net = models.Model([input_a, input_b], output)\n",
        "siamese_net.compile(loss='binary_crossentropy', optimizer='adam', metrics=['accuracy'])"
      ],
      "metadata": {
        "id": "Kfu3SZGSsJYK"
      },
      "execution_count": null,
      "outputs": []
    },
    {
      "cell_type": "markdown",
      "source": [
        "# TRAIN and EXPORT"
      ],
      "metadata": {
        "id": "Lhra25CFsisa"
      }
    },
    {
      "cell_type": "code",
      "source": [
        "siamese_net.fit([X1_train, X2_train], y_train, validation_data=([X1_test, X2_test], y_test), epochs=100, batch_size=32)\n",
        "loss, acc = siamese_net.evaluate([X1_test, X2_test], y_test)\n",
        "print(f\"Test Accuracy: {acc:.4f}\")\n",
        "\n",
        "# EXPORT MODEL\n",
        "export_dir = \"siamese_model.keras\"\n",
        "base_network.save(export_dir)\n",
        "print(f\"Base feature extractor saved at: {export_dir}\")\n"
      ],
      "metadata": {
        "colab": {
          "base_uri": "https://localhost:8080/"
        },
        "id": "MGqeYT2CsMDZ",
        "outputId": "51152195-c335-4bc2-e16e-e929d348b1fa"
      },
      "execution_count": null,
      "outputs": [
        {
          "output_type": "stream",
          "name": "stdout",
          "text": [
            "Epoch 1/100\n",
            "4/4 [==============================] - 1s 66ms/step - loss: 0.6890 - accuracy: 0.4722 - val_loss: 0.6652 - val_accuracy: 0.6786\n",
            "Epoch 2/100\n",
            "4/4 [==============================] - 0s 9ms/step - loss: 0.6252 - accuracy: 0.7593 - val_loss: 0.6511 - val_accuracy: 0.7500\n",
            "Epoch 3/100\n",
            "4/4 [==============================] - 0s 9ms/step - loss: 0.5988 - accuracy: 0.7685 - val_loss: 0.6526 - val_accuracy: 0.7500\n",
            "Epoch 4/100\n",
            "4/4 [==============================] - 0s 9ms/step - loss: 0.5887 - accuracy: 0.7685 - val_loss: 0.6563 - val_accuracy: 0.7857\n",
            "Epoch 5/100\n",
            "4/4 [==============================] - 0s 9ms/step - loss: 0.5871 - accuracy: 0.7685 - val_loss: 0.6562 - val_accuracy: 0.7857\n",
            "Epoch 6/100\n",
            "4/4 [==============================] - 0s 15ms/step - loss: 0.5859 - accuracy: 0.7685 - val_loss: 0.6555 - val_accuracy: 0.7857\n",
            "Epoch 7/100\n",
            "4/4 [==============================] - 0s 10ms/step - loss: 0.5849 - accuracy: 0.7685 - val_loss: 0.6519 - val_accuracy: 0.7857\n",
            "Epoch 8/100\n",
            "4/4 [==============================] - 0s 10ms/step - loss: 0.5816 - accuracy: 0.7685 - val_loss: 0.6470 - val_accuracy: 0.7857\n",
            "Epoch 9/100\n",
            "4/4 [==============================] - 0s 9ms/step - loss: 0.5790 - accuracy: 0.7685 - val_loss: 0.6406 - val_accuracy: 0.7857\n",
            "Epoch 10/100\n",
            "4/4 [==============================] - 0s 9ms/step - loss: 0.5783 - accuracy: 0.7685 - val_loss: 0.6361 - val_accuracy: 0.7857\n",
            "Epoch 11/100\n",
            "4/4 [==============================] - 0s 10ms/step - loss: 0.5748 - accuracy: 0.7685 - val_loss: 0.6341 - val_accuracy: 0.7857\n",
            "Epoch 12/100\n",
            "4/4 [==============================] - 0s 9ms/step - loss: 0.5719 - accuracy: 0.7685 - val_loss: 0.6341 - val_accuracy: 0.7857\n",
            "Epoch 13/100\n",
            "4/4 [==============================] - 0s 10ms/step - loss: 0.5691 - accuracy: 0.7685 - val_loss: 0.6351 - val_accuracy: 0.7857\n",
            "Epoch 14/100\n",
            "4/4 [==============================] - 0s 9ms/step - loss: 0.5674 - accuracy: 0.7685 - val_loss: 0.6341 - val_accuracy: 0.7857\n",
            "Epoch 15/100\n",
            "4/4 [==============================] - 0s 9ms/step - loss: 0.5662 - accuracy: 0.7685 - val_loss: 0.6319 - val_accuracy: 0.7857\n",
            "Epoch 16/100\n",
            "4/4 [==============================] - 0s 9ms/step - loss: 0.5640 - accuracy: 0.7685 - val_loss: 0.6292 - val_accuracy: 0.7857\n",
            "Epoch 17/100\n",
            "4/4 [==============================] - 0s 16ms/step - loss: 0.5623 - accuracy: 0.7685 - val_loss: 0.6253 - val_accuracy: 0.7857\n",
            "Epoch 18/100\n",
            "4/4 [==============================] - 0s 11ms/step - loss: 0.5596 - accuracy: 0.7685 - val_loss: 0.6218 - val_accuracy: 0.7857\n",
            "Epoch 19/100\n",
            "4/4 [==============================] - 0s 12ms/step - loss: 0.5586 - accuracy: 0.7685 - val_loss: 0.6184 - val_accuracy: 0.7857\n",
            "Epoch 20/100\n",
            "4/4 [==============================] - 0s 9ms/step - loss: 0.5558 - accuracy: 0.7685 - val_loss: 0.6165 - val_accuracy: 0.7857\n",
            "Epoch 21/100\n",
            "4/4 [==============================] - 0s 9ms/step - loss: 0.5530 - accuracy: 0.7685 - val_loss: 0.6159 - val_accuracy: 0.7857\n",
            "Epoch 22/100\n",
            "4/4 [==============================] - 0s 9ms/step - loss: 0.5518 - accuracy: 0.7685 - val_loss: 0.6156 - val_accuracy: 0.7857\n",
            "Epoch 23/100\n",
            "4/4 [==============================] - 0s 10ms/step - loss: 0.5497 - accuracy: 0.7685 - val_loss: 0.6117 - val_accuracy: 0.7857\n",
            "Epoch 24/100\n",
            "4/4 [==============================] - 0s 10ms/step - loss: 0.5459 - accuracy: 0.7685 - val_loss: 0.6042 - val_accuracy: 0.7857\n",
            "Epoch 25/100\n",
            "4/4 [==============================] - 0s 9ms/step - loss: 0.5437 - accuracy: 0.7685 - val_loss: 0.5971 - val_accuracy: 0.7857\n",
            "Epoch 26/100\n",
            "4/4 [==============================] - 0s 9ms/step - loss: 0.5420 - accuracy: 0.7685 - val_loss: 0.5954 - val_accuracy: 0.7857\n",
            "Epoch 27/100\n",
            "4/4 [==============================] - 0s 9ms/step - loss: 0.5375 - accuracy: 0.7685 - val_loss: 0.5917 - val_accuracy: 0.7857\n",
            "Epoch 28/100\n",
            "4/4 [==============================] - 0s 9ms/step - loss: 0.5352 - accuracy: 0.7685 - val_loss: 0.5852 - val_accuracy: 0.7857\n",
            "Epoch 29/100\n",
            "4/4 [==============================] - 0s 9ms/step - loss: 0.5325 - accuracy: 0.7685 - val_loss: 0.5789 - val_accuracy: 0.7857\n",
            "Epoch 30/100\n",
            "4/4 [==============================] - 0s 9ms/step - loss: 0.5292 - accuracy: 0.7685 - val_loss: 0.5727 - val_accuracy: 0.7857\n",
            "Epoch 31/100\n",
            "4/4 [==============================] - 0s 9ms/step - loss: 0.5238 - accuracy: 0.7685 - val_loss: 0.5698 - val_accuracy: 0.7857\n",
            "Epoch 32/100\n",
            "4/4 [==============================] - 0s 10ms/step - loss: 0.5195 - accuracy: 0.7685 - val_loss: 0.5637 - val_accuracy: 0.7857\n",
            "Epoch 33/100\n",
            "4/4 [==============================] - 0s 10ms/step - loss: 0.5134 - accuracy: 0.7685 - val_loss: 0.5555 - val_accuracy: 0.7857\n",
            "Epoch 34/100\n",
            "4/4 [==============================] - 0s 10ms/step - loss: 0.5082 - accuracy: 0.7685 - val_loss: 0.5485 - val_accuracy: 0.7857\n",
            "Epoch 35/100\n",
            "4/4 [==============================] - 0s 16ms/step - loss: 0.5005 - accuracy: 0.7685 - val_loss: 0.5434 - val_accuracy: 0.7857\n",
            "Epoch 36/100\n",
            "4/4 [==============================] - 0s 10ms/step - loss: 0.4942 - accuracy: 0.7685 - val_loss: 0.5311 - val_accuracy: 0.7857\n",
            "Epoch 37/100\n",
            "4/4 [==============================] - 0s 10ms/step - loss: 0.4866 - accuracy: 0.7685 - val_loss: 0.5224 - val_accuracy: 0.7857\n",
            "Epoch 38/100\n",
            "4/4 [==============================] - 0s 10ms/step - loss: 0.4767 - accuracy: 0.7685 - val_loss: 0.5150 - val_accuracy: 0.7857\n",
            "Epoch 39/100\n",
            "4/4 [==============================] - 0s 10ms/step - loss: 0.4699 - accuracy: 0.7685 - val_loss: 0.5011 - val_accuracy: 0.7857\n",
            "Epoch 40/100\n",
            "4/4 [==============================] - 0s 11ms/step - loss: 0.4584 - accuracy: 0.7685 - val_loss: 0.4883 - val_accuracy: 0.7857\n",
            "Epoch 41/100\n",
            "4/4 [==============================] - 0s 10ms/step - loss: 0.4470 - accuracy: 0.7685 - val_loss: 0.4797 - val_accuracy: 0.7857\n",
            "Epoch 42/100\n",
            "4/4 [==============================] - 0s 10ms/step - loss: 0.4361 - accuracy: 0.7685 - val_loss: 0.4626 - val_accuracy: 0.7857\n",
            "Epoch 43/100\n",
            "4/4 [==============================] - 0s 10ms/step - loss: 0.4234 - accuracy: 0.7685 - val_loss: 0.4475 - val_accuracy: 0.7857\n",
            "Epoch 44/100\n",
            "4/4 [==============================] - 0s 11ms/step - loss: 0.4120 - accuracy: 0.7685 - val_loss: 0.4279 - val_accuracy: 0.7857\n",
            "Epoch 45/100\n",
            "4/4 [==============================] - 0s 10ms/step - loss: 0.3978 - accuracy: 0.7685 - val_loss: 0.4198 - val_accuracy: 0.7857\n",
            "Epoch 46/100\n",
            "4/4 [==============================] - 0s 10ms/step - loss: 0.3826 - accuracy: 0.7685 - val_loss: 0.4003 - val_accuracy: 0.7857\n",
            "Epoch 47/100\n",
            "4/4 [==============================] - 0s 14ms/step - loss: 0.3695 - accuracy: 0.7685 - val_loss: 0.3963 - val_accuracy: 0.7857\n",
            "Epoch 48/100\n",
            "4/4 [==============================] - 0s 16ms/step - loss: 0.3605 - accuracy: 0.7685 - val_loss: 0.3775 - val_accuracy: 0.7857\n",
            "Epoch 49/100\n",
            "4/4 [==============================] - 0s 10ms/step - loss: 0.3480 - accuracy: 0.7685 - val_loss: 0.3703 - val_accuracy: 0.8214\n",
            "Epoch 50/100\n",
            "4/4 [==============================] - 0s 10ms/step - loss: 0.3339 - accuracy: 0.7963 - val_loss: 0.3648 - val_accuracy: 0.7857\n",
            "Epoch 51/100\n",
            "4/4 [==============================] - 0s 10ms/step - loss: 0.3159 - accuracy: 0.8056 - val_loss: 0.3474 - val_accuracy: 0.8571\n",
            "Epoch 52/100\n",
            "4/4 [==============================] - 0s 15ms/step - loss: 0.3058 - accuracy: 0.8426 - val_loss: 0.3366 - val_accuracy: 0.8571\n",
            "Epoch 53/100\n",
            "4/4 [==============================] - 0s 10ms/step - loss: 0.2888 - accuracy: 0.8611 - val_loss: 0.3261 - val_accuracy: 0.8571\n",
            "Epoch 54/100\n",
            "4/4 [==============================] - 0s 10ms/step - loss: 0.2722 - accuracy: 0.8796 - val_loss: 0.3142 - val_accuracy: 0.8214\n",
            "Epoch 55/100\n",
            "4/4 [==============================] - 0s 10ms/step - loss: 0.2602 - accuracy: 0.8889 - val_loss: 0.3120 - val_accuracy: 0.8571\n",
            "Epoch 56/100\n",
            "4/4 [==============================] - 0s 16ms/step - loss: 0.2583 - accuracy: 0.8889 - val_loss: 0.3000 - val_accuracy: 0.8571\n",
            "Epoch 57/100\n",
            "4/4 [==============================] - 0s 16ms/step - loss: 0.2378 - accuracy: 0.9259 - val_loss: 0.2883 - val_accuracy: 0.8214\n",
            "Epoch 58/100\n",
            "4/4 [==============================] - 0s 10ms/step - loss: 0.2303 - accuracy: 0.9259 - val_loss: 0.2776 - val_accuracy: 0.8929\n",
            "Epoch 59/100\n",
            "4/4 [==============================] - 0s 10ms/step - loss: 0.2190 - accuracy: 0.9352 - val_loss: 0.2670 - val_accuracy: 0.8571\n",
            "Epoch 60/100\n",
            "4/4 [==============================] - 0s 10ms/step - loss: 0.2126 - accuracy: 0.9444 - val_loss: 0.2598 - val_accuracy: 0.8571\n",
            "Epoch 61/100\n",
            "4/4 [==============================] - 0s 16ms/step - loss: 0.2032 - accuracy: 0.9537 - val_loss: 0.2570 - val_accuracy: 0.8929\n",
            "Epoch 62/100\n",
            "4/4 [==============================] - 0s 11ms/step - loss: 0.1947 - accuracy: 0.9630 - val_loss: 0.2522 - val_accuracy: 0.8929\n",
            "Epoch 63/100\n",
            "4/4 [==============================] - 0s 10ms/step - loss: 0.1894 - accuracy: 0.9444 - val_loss: 0.2477 - val_accuracy: 0.8929\n",
            "Epoch 64/100\n",
            "4/4 [==============================] - 0s 10ms/step - loss: 0.1817 - accuracy: 0.9537 - val_loss: 0.2431 - val_accuracy: 0.8929\n",
            "Epoch 65/100\n",
            "4/4 [==============================] - 0s 10ms/step - loss: 0.1785 - accuracy: 0.9444 - val_loss: 0.2394 - val_accuracy: 0.9286\n",
            "Epoch 66/100\n",
            "4/4 [==============================] - 0s 10ms/step - loss: 0.1716 - accuracy: 0.9815 - val_loss: 0.2318 - val_accuracy: 0.9286\n",
            "Epoch 67/100\n",
            "4/4 [==============================] - 0s 10ms/step - loss: 0.1660 - accuracy: 0.9630 - val_loss: 0.2316 - val_accuracy: 0.9286\n",
            "Epoch 68/100\n",
            "4/4 [==============================] - 0s 11ms/step - loss: 0.1640 - accuracy: 0.9630 - val_loss: 0.2285 - val_accuracy: 0.9286\n",
            "Epoch 69/100\n",
            "4/4 [==============================] - 0s 10ms/step - loss: 0.1571 - accuracy: 0.9722 - val_loss: 0.2252 - val_accuracy: 0.9286\n",
            "Epoch 70/100\n",
            "4/4 [==============================] - 0s 10ms/step - loss: 0.1532 - accuracy: 0.9722 - val_loss: 0.2311 - val_accuracy: 0.9286\n",
            "Epoch 71/100\n",
            "4/4 [==============================] - 0s 16ms/step - loss: 0.1551 - accuracy: 0.9722 - val_loss: 0.2194 - val_accuracy: 0.9286\n",
            "Epoch 72/100\n",
            "4/4 [==============================] - 0s 14ms/step - loss: 0.1517 - accuracy: 0.9444 - val_loss: 0.2173 - val_accuracy: 0.9286\n",
            "Epoch 73/100\n",
            "4/4 [==============================] - 0s 10ms/step - loss: 0.1454 - accuracy: 0.9630 - val_loss: 0.2164 - val_accuracy: 0.9643\n",
            "Epoch 74/100\n",
            "4/4 [==============================] - 0s 10ms/step - loss: 0.1448 - accuracy: 0.9630 - val_loss: 0.2118 - val_accuracy: 0.9643\n",
            "Epoch 75/100\n",
            "4/4 [==============================] - 0s 10ms/step - loss: 0.1544 - accuracy: 0.9722 - val_loss: 0.2122 - val_accuracy: 0.9643\n",
            "Epoch 76/100\n",
            "4/4 [==============================] - 0s 10ms/step - loss: 0.1428 - accuracy: 0.9444 - val_loss: 0.2095 - val_accuracy: 0.9286\n",
            "Epoch 77/100\n",
            "4/4 [==============================] - 0s 10ms/step - loss: 0.1320 - accuracy: 0.9815 - val_loss: 0.2221 - val_accuracy: 0.8929\n",
            "Epoch 78/100\n",
            "4/4 [==============================] - 0s 19ms/step - loss: 0.1371 - accuracy: 0.9815 - val_loss: 0.2089 - val_accuracy: 0.9286\n",
            "Epoch 79/100\n",
            "4/4 [==============================] - 0s 21ms/step - loss: 0.1294 - accuracy: 0.9722 - val_loss: 0.2044 - val_accuracy: 0.9286\n",
            "Epoch 80/100\n",
            "4/4 [==============================] - 0s 14ms/step - loss: 0.1213 - accuracy: 0.9722 - val_loss: 0.2032 - val_accuracy: 0.9643\n",
            "Epoch 81/100\n",
            "4/4 [==============================] - 0s 19ms/step - loss: 0.1182 - accuracy: 0.9815 - val_loss: 0.2028 - val_accuracy: 0.9286\n",
            "Epoch 82/100\n",
            "4/4 [==============================] - 0s 22ms/step - loss: 0.1179 - accuracy: 0.9815 - val_loss: 0.1994 - val_accuracy: 0.9286\n",
            "Epoch 83/100\n",
            "4/4 [==============================] - 0s 23ms/step - loss: 0.1147 - accuracy: 0.9815 - val_loss: 0.1988 - val_accuracy: 0.9643\n",
            "Epoch 84/100\n",
            "4/4 [==============================] - 0s 20ms/step - loss: 0.1258 - accuracy: 0.9630 - val_loss: 0.1956 - val_accuracy: 0.9643\n",
            "Epoch 85/100\n",
            "4/4 [==============================] - 0s 20ms/step - loss: 0.1121 - accuracy: 0.9722 - val_loss: 0.2052 - val_accuracy: 0.9286\n",
            "Epoch 86/100\n",
            "4/4 [==============================] - 0s 18ms/step - loss: 0.1154 - accuracy: 0.9722 - val_loss: 0.1920 - val_accuracy: 0.9643\n",
            "Epoch 87/100\n",
            "4/4 [==============================] - 0s 16ms/step - loss: 0.1228 - accuracy: 0.9722 - val_loss: 0.1986 - val_accuracy: 0.9643\n",
            "Epoch 88/100\n",
            "4/4 [==============================] - 0s 14ms/step - loss: 0.1077 - accuracy: 0.9722 - val_loss: 0.1973 - val_accuracy: 0.9286\n",
            "Epoch 89/100\n",
            "4/4 [==============================] - 0s 20ms/step - loss: 0.1102 - accuracy: 0.9722 - val_loss: 0.1908 - val_accuracy: 0.9286\n",
            "Epoch 90/100\n",
            "4/4 [==============================] - 0s 24ms/step - loss: 0.1000 - accuracy: 0.9815 - val_loss: 0.1950 - val_accuracy: 0.9643\n",
            "Epoch 91/100\n",
            "4/4 [==============================] - 0s 22ms/step - loss: 0.1052 - accuracy: 0.9722 - val_loss: 0.1906 - val_accuracy: 0.9286\n",
            "Epoch 92/100\n",
            "4/4 [==============================] - 0s 19ms/step - loss: 0.0992 - accuracy: 0.9815 - val_loss: 0.1941 - val_accuracy: 0.9286\n",
            "Epoch 93/100\n",
            "4/4 [==============================] - 0s 14ms/step - loss: 0.0984 - accuracy: 0.9815 - val_loss: 0.1855 - val_accuracy: 0.9643\n",
            "Epoch 94/100\n",
            "4/4 [==============================] - 0s 13ms/step - loss: 0.0968 - accuracy: 0.9815 - val_loss: 0.1845 - val_accuracy: 0.9643\n",
            "Epoch 95/100\n",
            "4/4 [==============================] - 0s 13ms/step - loss: 0.0938 - accuracy: 0.9815 - val_loss: 0.1877 - val_accuracy: 0.9286\n",
            "Epoch 96/100\n",
            "4/4 [==============================] - 0s 14ms/step - loss: 0.0992 - accuracy: 0.9722 - val_loss: 0.1867 - val_accuracy: 0.9286\n",
            "Epoch 97/100\n",
            "4/4 [==============================] - 0s 20ms/step - loss: 0.0912 - accuracy: 0.9722 - val_loss: 0.1821 - val_accuracy: 0.9643\n",
            "Epoch 98/100\n",
            "4/4 [==============================] - 0s 16ms/step - loss: 0.0931 - accuracy: 0.9815 - val_loss: 0.1831 - val_accuracy: 0.9643\n",
            "Epoch 99/100\n",
            "4/4 [==============================] - 0s 14ms/step - loss: 0.0968 - accuracy: 0.9815 - val_loss: 0.1980 - val_accuracy: 0.9286\n",
            "Epoch 100/100\n",
            "4/4 [==============================] - 0s 23ms/step - loss: 0.0899 - accuracy: 0.9815 - val_loss: 0.1849 - val_accuracy: 0.9643\n",
            "1/1 [==============================] - 0s 39ms/step - loss: 0.1849 - accuracy: 0.9643\n"
          ]
        },
        {
          "output_type": "stream",
          "name": "stderr",
          "text": [
            "WARNING:tensorflow:Compiled the loaded model, but the compiled metrics have yet to be built. `model.compile_metrics` will be empty until you train or evaluate the model.\n"
          ]
        },
        {
          "output_type": "stream",
          "name": "stdout",
          "text": [
            "Test Accuracy: 0.9643\n",
            "Base feature extractor saved at: siamese_model.keras\n"
          ]
        }
      ]
    },
    {
      "cell_type": "markdown",
      "source": [
        "\n",
        "# ONE-SHOT PREDICTION"
      ],
      "metadata": {
        "id": "grx46COlsUun"
      }
    },
    {
      "cell_type": "code",
      "source": [
        "def one_shot_predict(query_sample, support_set, support_labels, base_model):\n",
        "    query_embedding = base_model.predict(np.array([query_sample]))\n",
        "    support_embeddings = base_model.predict(np.array(support_set))\n",
        "    distances = np.linalg.norm(support_embeddings - query_embedding, axis=1)\n",
        "    min_index = np.argmin(distances)\n",
        "    return support_labels[min_index], distances[min_index]\n",
        "\n",
        "# EXAMPLE PREDICTION\n",
        "if len(features) > 1 and len(labels) > 1:\n",
        "    query_idx = 0\n",
        "    support_indices = list(range(1, min(len(features), 6))) # Use min to avoid index out of bounds\n",
        "    if len(support_indices) > 0:\n",
        "        pred_label, pred_distance = one_shot_predict(features[query_idx], features[support_indices], labels[support_indices], base_network)\n",
        "        print(f\"🔍 One-shot predicted label: {pred_label}, True: {labels[query_idx]}, Distance: {pred_distance:.4f}\")\n",
        "    else:\n",
        "        print(\"Not enough samples to perform one-shot prediction.\")\n",
        "else:\n",
        "    print(\"Not enough features or labels to perform one-shot prediction.\")\n"
      ],
      "metadata": {
        "colab": {
          "base_uri": "https://localhost:8080/"
        },
        "id": "7UB0T6b5rGJh",
        "outputId": "506c5eb0-e087-4372-88ea-2598a9061513"
      },
      "execution_count": null,
      "outputs": [
        {
          "output_type": "stream",
          "name": "stdout",
          "text": [
            "1/1 [==============================] - 0s 66ms/step\n",
            "1/1 [==============================] - 0s 25ms/step\n",
            "🔍 One-shot predicted label: 0, True: 0, Distance: 1.1681\n"
          ]
        }
      ]
    },
    {
      "cell_type": "markdown",
      "source": [
        "# save model as tflite"
      ],
      "metadata": {
        "id": "5YslVt-1nhMf"
      }
    },
    {
      "cell_type": "code",
      "source": [
        "model = tf.keras.models.load_model('siamese_model.keras')\n",
        "\n",
        "# Create the converter\n",
        "converter = tf.lite.TFLiteConverter.from_keras_model(model)\n",
        "\n",
        "# (Optional) Enable optimizations for smaller size and better latency\n",
        "converter.optimizations = [tf.lite.Optimize.DEFAULT]\n",
        "\n",
        "# Convert the model\n",
        "tflite_model = converter.convert()\n",
        "\n",
        "# Save the TFLite model\n",
        "with open('siamese_model_new.tflite', 'wb') as f:\n",
        "    f.write(tflite_model)\n",
        "\n",
        "print(\"✅ TFLite model saved as 'siamese_model.tflite'\")"
      ],
      "metadata": {
        "colab": {
          "base_uri": "https://localhost:8080/"
        },
        "id": "yZ9xnY3mng3Z",
        "outputId": "e17e4ffa-de12-4dc1-9430-fb7dc6c61c51"
      },
      "execution_count": null,
      "outputs": [
        {
          "output_type": "stream",
          "name": "stderr",
          "text": [
            "WARNING:tensorflow:No training configuration found in the save file, so the model was *not* compiled. Compile it manually.\n"
          ]
        },
        {
          "output_type": "stream",
          "name": "stdout",
          "text": [
            "✅ TFLite model saved as 'siamese_model.tflite'\n"
          ]
        }
      ]
    }
  ]
}